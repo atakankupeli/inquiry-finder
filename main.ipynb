{
 "cells": [
  {
   "attachments": {},
   "cell_type": "markdown",
   "metadata": {},
   "source": [
    "TESSERACT-OCR"
   ]
  },
  {
   "attachments": {},
   "cell_type": "markdown",
   "metadata": {},
   "source": [
    "ORWELL"
   ]
  },
  {
   "cell_type": "code",
   "execution_count": null,
   "metadata": {},
   "outputs": [],
   "source": [
    "# import module\n",
    "from pdf2image import convert_from_path\n",
    " \n",
    " \n",
    "# Store Pdf with convert_from_path function\n",
    "images = convert_from_path('./book_pdfs/orwell_1984.pdf')\n",
    "\n",
    "for i in range(len(images)):\n",
    "   \n",
    "      # Save pages as images in the pdf\n",
    "    images[i].save('./book_images/orwell_1984' + '/page' + str(i) + '.jpg', 'JPEG')\n",
    "\n",
    "import pytesseract\n",
    "from PIL import Image\n",
    "import pandas as pd\n",
    "\n",
    "text_pages = []\n",
    "for i in range(len(images)):\n",
    "    image = Image.open('./book_images/orwell_1984' + '/page' + str(i) + '.jpg')\n",
    "    text = pytesseract.image_to_string(image, lang='eng')\n",
    "    text = text.replace(\"\\n\",\" \")\n",
    "    print(i)\n",
    "    text_pages.append(text)\n",
    "\n",
    "text_book_df = pd.DataFrame(text_pages,columns=['text'])\n",
    "\n",
    "text_book_df.to_csv(\"./models/tesseract_84_text.csv\",index=False)\n",
    "text_book_df = pd.read_csv(\"./models/tesseract_84_text.csv\")"
   ]
  },
  {
   "attachments": {},
   "cell_type": "markdown",
   "metadata": {},
   "source": [
    "DL"
   ]
  },
  {
   "cell_type": "code",
   "execution_count": null,
   "metadata": {},
   "outputs": [],
   "source": [
    "# import module\n",
    "from pdf2image import convert_from_path\n",
    " \n",
    " \n",
    "# Store Pdf with convert_from_path function\n",
    "images = convert_from_path('./book_pdfs/goodfellow_deep_learning.pdf')\n",
    "\n",
    "for i in range(len(images)):\n",
    "   \n",
    "      # Save pages as images in the pdf\n",
    "    images[i].save('./book_images/goodfellow_deep_learning' + '/page' + str(i) + '.jpg', 'JPEG')\n",
    "\n",
    "import pytesseract\n",
    "from PIL import Image\n",
    "import pandas as pd\n",
    "\n",
    "text_pages = []\n",
    "for i in range(len(images)):\n",
    "    image = Image.open('./book_images/goodfellow_deep_learning' + '/page' + str(i) + '.jpg')\n",
    "    text = pytesseract.image_to_string(image, lang='eng')\n",
    "    text = text.replace(\"\\n\",\" \")\n",
    "    print(i)\n",
    "    text_pages.append(text)\n",
    "\n",
    "after_intro = text_pages[15:]\n",
    "before_reference = after_intro[:-65]\n",
    "\n",
    "text_book_df = pd.DataFrame(before_reference,columns=['text'])\n",
    "\n",
    "text_book_df.to_csv(\"./models/tesseract_dl_text.csv\",index=False)\n",
    "text_book_df = pd.read_csv(\"./models/tesseract_dl_text.csv\")"
   ]
  },
  {
   "attachments": {},
   "cell_type": "markdown",
   "metadata": {},
   "source": [
    "EASY-OCR"
   ]
  },
  {
   "attachments": {},
   "cell_type": "markdown",
   "metadata": {},
   "source": [
    "ORWELL"
   ]
  },
  {
   "cell_type": "code",
   "execution_count": null,
   "metadata": {},
   "outputs": [],
   "source": [
    "import easyocr\n",
    "\n",
    "reader = easyocr.Reader(['en']) # this needs to run only once to load the model into memory\n",
    "\n",
    "images_length = pd.read_csv(\"./models/tesseract_84_text.csv\").shape[0]\n",
    "\n",
    "text_pages = []\n",
    "for i in range(images_length):\n",
    "    text_list = reader.readtext('./book_images/orwell_1984' + '/page' + str(i) + '.jpg',detail=0)\n",
    "    text = ''.join(text_list)\n",
    "    text = text.replace(\"\\n\",\" \")\n",
    "    print(i)\n",
    "    text_pages.append(text)\n",
    "\n",
    "text_book_df = pd.DataFrame(text_pages,columns=['text'])\n",
    "\n",
    "text_book_df.to_csv(\"./models/easy_84_text.csv\",index=False)\n",
    "text_book_df = pd.read_csv(\"./models/easy_84_text.csv\")"
   ]
  },
  {
   "attachments": {},
   "cell_type": "markdown",
   "metadata": {},
   "source": [
    "CONVERT IMAGE PAGES TO TEXT PAGES AND SAVE TEXT BOOK"
   ]
  },
  {
   "cell_type": "code",
   "execution_count": 48,
   "metadata": {},
   "outputs": [],
   "source": [
    "text_book_df = pd.read_csv(\"./models/tesseract_84_text.csv\")"
   ]
  },
  {
   "cell_type": "code",
   "execution_count": 49,
   "metadata": {},
   "outputs": [
    {
     "data": {
      "text/html": [
       "<div>\n",
       "<style scoped>\n",
       "    .dataframe tbody tr th:only-of-type {\n",
       "        vertical-align: middle;\n",
       "    }\n",
       "\n",
       "    .dataframe tbody tr th {\n",
       "        vertical-align: top;\n",
       "    }\n",
       "\n",
       "    .dataframe thead th {\n",
       "        text-align: right;\n",
       "    }\n",
       "</style>\n",
       "<table border=\"1\" class=\"dataframe\">\n",
       "  <thead>\n",
       "    <tr style=\"text-align: right;\">\n",
       "      <th></th>\n",
       "      <th>text</th>\n",
       "    </tr>\n",
       "  </thead>\n",
       "  <tbody>\n",
       "    <tr>\n",
       "      <th>0</th>\n",
       "      <td>ees ed = — =</td>\n",
       "    </tr>\n",
       "    <tr>\n",
       "      <th>1</th>\n",
       "      <td>Eric Arthur Blair (25 June 1903 - 21 January 1...</td>\n",
       "    </tr>\n",
       "    <tr>\n",
       "      <th>2</th>\n",
       "      <td>PART ONE  2 1984</td>\n",
       "    </tr>\n",
       "    <tr>\n",
       "      <th>3</th>\n",
       "      <td>CHAPTER 1  I was a bright cold day in April, a...</td>\n",
       "    </tr>\n",
       "    <tr>\n",
       "      <th>4</th>\n",
       "      <td>ures which had something to do with the produc...</td>\n",
       "    </tr>\n",
       "    <tr>\n",
       "      <th>...</th>\n",
       "      <td>...</td>\n",
       "    </tr>\n",
       "    <tr>\n",
       "      <th>389</th>\n",
       "      <td>of the Party as a DOUBLEPLUSGOOD DUCKSPEAKER i...</td>\n",
       "    </tr>\n",
       "    <tr>\n",
       "      <th>390</th>\n",
       "      <td>ical to Ingsoc could only be entertained in a ...</td>\n",
       "    </tr>\n",
       "    <tr>\n",
       "      <th>391</th>\n",
       "      <td>the passage of time the distinguishing charact...</td>\n",
       "    </tr>\n",
       "    <tr>\n",
       "      <th>392</th>\n",
       "      <td>THAT TO SECURE THESE RIGHTS, GOVERNMENTS ARE I...</td>\n",
       "    </tr>\n",
       "    <tr>\n",
       "      <th>393</th>\n",
       "      <td>uals, and the like—that had to be treated in t...</td>\n",
       "    </tr>\n",
       "  </tbody>\n",
       "</table>\n",
       "<p>394 rows × 1 columns</p>\n",
       "</div>"
      ],
      "text/plain": [
       "                                                  text\n",
       "0                                       ees ed = — =  \n",
       "1    Eric Arthur Blair (25 June 1903 - 21 January 1...\n",
       "2                                    PART ONE  2 1984 \n",
       "3    CHAPTER 1  I was a bright cold day in April, a...\n",
       "4    ures which had something to do with the produc...\n",
       "..                                                 ...\n",
       "389  of the Party as a DOUBLEPLUSGOOD DUCKSPEAKER i...\n",
       "390  ical to Ingsoc could only be entertained in a ...\n",
       "391  the passage of time the distinguishing charact...\n",
       "392  THAT TO SECURE THESE RIGHTS, GOVERNMENTS ARE I...\n",
       "393  uals, and the like—that had to be treated in t...\n",
       "\n",
       "[394 rows x 1 columns]"
      ]
     },
     "execution_count": 49,
     "metadata": {},
     "output_type": "execute_result"
    }
   ],
   "source": [
    "text_book_df"
   ]
  },
  {
   "cell_type": "code",
   "execution_count": 6,
   "metadata": {},
   "outputs": [],
   "source": [
    "from tqdm import tqdm\n",
    "tqdm.pandas()\n",
    "from gpt_api import get_embedding"
   ]
  },
  {
   "cell_type": "code",
   "execution_count": 51,
   "metadata": {},
   "outputs": [
    {
     "name": "stderr",
     "output_type": "stream",
     "text": [
      "100%|██████████| 394/394 [01:45<00:00,  3.75it/s]\n"
     ]
    }
   ],
   "source": [
    "text_book_df['embedding'] = text_book_df.text.progress_apply(lambda x: get_embedding(x))"
   ]
  },
  {
   "cell_type": "code",
   "execution_count": 52,
   "metadata": {},
   "outputs": [],
   "source": [
    "text_book_df[['text','embedding']].to_json(\"./models/tesseract_84.json\")"
   ]
  },
  {
   "cell_type": "code",
   "execution_count": 58,
   "metadata": {},
   "outputs": [],
   "source": [
    "text_book_df = pd.read_json(\"./models/tesseract_84.json\")"
   ]
  },
  {
   "cell_type": "code",
   "execution_count": 59,
   "metadata": {},
   "outputs": [
    {
     "data": {
      "text/html": [
       "<div>\n",
       "<style scoped>\n",
       "    .dataframe tbody tr th:only-of-type {\n",
       "        vertical-align: middle;\n",
       "    }\n",
       "\n",
       "    .dataframe tbody tr th {\n",
       "        vertical-align: top;\n",
       "    }\n",
       "\n",
       "    .dataframe thead th {\n",
       "        text-align: right;\n",
       "    }\n",
       "</style>\n",
       "<table border=\"1\" class=\"dataframe\">\n",
       "  <thead>\n",
       "    <tr style=\"text-align: right;\">\n",
       "      <th></th>\n",
       "      <th>text</th>\n",
       "      <th>embedding</th>\n",
       "    </tr>\n",
       "  </thead>\n",
       "  <tbody>\n",
       "    <tr>\n",
       "      <th>0</th>\n",
       "      <td>ees ed = — =</td>\n",
       "      <td>[0.0028095939000000003, 0.0055296663000000005,...</td>\n",
       "    </tr>\n",
       "    <tr>\n",
       "      <th>1</th>\n",
       "      <td>Eric Arthur Blair (25 June 1903 - 21 January 1...</td>\n",
       "      <td>[-0.0196088552, 0.0024448179, -0.0153701222000...</td>\n",
       "    </tr>\n",
       "    <tr>\n",
       "      <th>2</th>\n",
       "      <td>PART ONE  2 1984</td>\n",
       "      <td>[-0.0010082746, -0.0240596328, -0.0204334836, ...</td>\n",
       "    </tr>\n",
       "    <tr>\n",
       "      <th>3</th>\n",
       "      <td>CHAPTER 1  I was a bright cold day in April, a...</td>\n",
       "      <td>[-0.0174080674, -0.0059617143000000004, -0.015...</td>\n",
       "    </tr>\n",
       "    <tr>\n",
       "      <th>4</th>\n",
       "      <td>ures which had something to do with the produc...</td>\n",
       "      <td>[-0.0218209475, -0.014119437, 0.00236234300000...</td>\n",
       "    </tr>\n",
       "    <tr>\n",
       "      <th>...</th>\n",
       "      <td>...</td>\n",
       "      <td>...</td>\n",
       "    </tr>\n",
       "    <tr>\n",
       "      <th>389</th>\n",
       "      <td>of the Party as a DOUBLEPLUSGOOD DUCKSPEAKER i...</td>\n",
       "      <td>[-0.0030891225000000003, 0.0009054925, 0.02249...</td>\n",
       "    </tr>\n",
       "    <tr>\n",
       "      <th>390</th>\n",
       "      <td>ical to Ingsoc could only be entertained in a ...</td>\n",
       "      <td>[-0.0095675662, -0.004203015, 0.0114945071, -0...</td>\n",
       "    </tr>\n",
       "    <tr>\n",
       "      <th>391</th>\n",
       "      <td>the passage of time the distinguishing charact...</td>\n",
       "      <td>[-0.0008211457, -0.0047661318, 0.0059636184000...</td>\n",
       "    </tr>\n",
       "    <tr>\n",
       "      <th>392</th>\n",
       "      <td>THAT TO SECURE THESE RIGHTS, GOVERNMENTS ARE I...</td>\n",
       "      <td>[0.0036198599000000003, -0.0065559684, -0.0087...</td>\n",
       "    </tr>\n",
       "    <tr>\n",
       "      <th>393</th>\n",
       "      <td>uals, and the like—that had to be treated in t...</td>\n",
       "      <td>[0.0051216697, -0.0234192759, 0.0014498718, -0...</td>\n",
       "    </tr>\n",
       "  </tbody>\n",
       "</table>\n",
       "<p>394 rows × 2 columns</p>\n",
       "</div>"
      ],
      "text/plain": [
       "                                                  text  \\\n",
       "0                                       ees ed = — =     \n",
       "1    Eric Arthur Blair (25 June 1903 - 21 January 1...   \n",
       "2                                    PART ONE  2 1984    \n",
       "3    CHAPTER 1  I was a bright cold day in April, a...   \n",
       "4    ures which had something to do with the produc...   \n",
       "..                                                 ...   \n",
       "389  of the Party as a DOUBLEPLUSGOOD DUCKSPEAKER i...   \n",
       "390  ical to Ingsoc could only be entertained in a ...   \n",
       "391  the passage of time the distinguishing charact...   \n",
       "392  THAT TO SECURE THESE RIGHTS, GOVERNMENTS ARE I...   \n",
       "393  uals, and the like—that had to be treated in t...   \n",
       "\n",
       "                                             embedding  \n",
       "0    [0.0028095939000000003, 0.0055296663000000005,...  \n",
       "1    [-0.0196088552, 0.0024448179, -0.0153701222000...  \n",
       "2    [-0.0010082746, -0.0240596328, -0.0204334836, ...  \n",
       "3    [-0.0174080674, -0.0059617143000000004, -0.015...  \n",
       "4    [-0.0218209475, -0.014119437, 0.00236234300000...  \n",
       "..                                                 ...  \n",
       "389  [-0.0030891225000000003, 0.0009054925, 0.02249...  \n",
       "390  [-0.0095675662, -0.004203015, 0.0114945071, -0...  \n",
       "391  [-0.0008211457, -0.0047661318, 0.0059636184000...  \n",
       "392  [0.0036198599000000003, -0.0065559684, -0.0087...  \n",
       "393  [0.0051216697, -0.0234192759, 0.0014498718, -0...  \n",
       "\n",
       "[394 rows x 2 columns]"
      ]
     },
     "execution_count": 59,
     "metadata": {},
     "output_type": "execute_result"
    }
   ],
   "source": [
    "text_book_df"
   ]
  },
  {
   "attachments": {},
   "cell_type": "markdown",
   "metadata": {},
   "source": [
    "LOAD EMBEDDINGS DF"
   ]
  },
  {
   "cell_type": "code",
   "execution_count": 7,
   "metadata": {},
   "outputs": [],
   "source": [
    "import numpy as np\n",
    "import pandas as pd"
   ]
  },
  {
   "cell_type": "code",
   "execution_count": 8,
   "metadata": {},
   "outputs": [],
   "source": [
    "def bring_k_most_similar(query,ocr,k):\n",
    "    text_book_df = pd.read_json(f\"./models/{ocr}_84.json\")\n",
    "    query_embedding = get_embedding(query)\n",
    "    similarity = text_book_df['embedding'].apply(lambda x: np.dot(x,query_embedding))\n",
    "    relevant_indexes = similarity.sort_values(ascending=False).iloc[0:k].index\n",
    "    relevant_text = ' '.join(text_book_df.iloc[relevant_indexes]['text'].values)\n",
    "    return relevant_text"
   ]
  },
  {
   "cell_type": "code",
   "execution_count": 9,
   "metadata": {},
   "outputs": [],
   "source": [
    "from gpt_api import model_output"
   ]
  },
  {
   "cell_type": "code",
   "execution_count": 10,
   "metadata": {},
   "outputs": [],
   "source": [
    "def book_whisperer(query,ocr,k=3):\n",
    "    relevant_text = bring_k_most_similar(query,ocr,k)\n",
    "    gpt_prompt = f\"\"\"\n",
    "        Instructions\n",
    "        - You are a text based search engine.\n",
    "        - Summarize the following text to be shorter and more concise.\n",
    "        - Keywords and summary should be relevant to answer the question.\n",
    "        - Retain as much information as needed to answer the question at a later time.\n",
    "\n",
    "        Question: {query} \n",
    "        Text: {relevant_text}\n",
    "        Summary:\n",
    "    \"\"\"\n",
    "    return model_output(gpt_prompt)"
   ]
  },
  {
   "cell_type": "code",
   "execution_count": null,
   "metadata": {},
   "outputs": [],
   "source": [
    "book_whisperer(\"Which poster was suddenly appeared all over london?\",ocr='tesseract').replace(\"\\n\",\"\")"
   ]
  },
  {
   "cell_type": "code",
   "execution_count": null,
   "metadata": {},
   "outputs": [],
   "source": [
    "book_whisperer(\"Which poster was suddenly appeared all over london?\",ocr='easy').replace(\"\\n\",\"\")"
   ]
  },
  {
   "cell_type": "code",
   "execution_count": 11,
   "metadata": {},
   "outputs": [
    {
     "data": {
      "text/plain": [
       "\"Winston Smith is a man in his mid-forties with a heavy black moustache and ruggedly handsome features. He is arrested for an indiscretion while producing a definitive edition of the poems of Kipling, which was allowing the word 'God' to remain at the end of a line.\""
      ]
     },
     "execution_count": 11,
     "metadata": {},
     "output_type": "execute_result"
    }
   ],
   "source": [
    "book_whisperer(\"Who is Winston Smith?\",ocr='tesseract').replace(\"\\n\",\"\")"
   ]
  },
  {
   "cell_type": "code",
   "execution_count": 12,
   "metadata": {},
   "outputs": [
    {
     "data": {
      "text/plain": [
       "'Winston Smith is a man of about 45 years old with a black moustache and ruggedly handsome features. He is featured in a poster with the caption \"Big Brother is Watching You\". He is thirty-nine years old and has a varicose ulcer above his right ankle. He is in the Records Department during the Two Minutes Hate, where Emmanuel Goldstein, the Enemy of the People, is featured on the screen. He is sitting next to a small, sandy-haired woman and behind a girl with dark hair. He is shoeless and unshaven, and is speaking to Ampleforth, who is suspected of bearing a razor blade. Ampleforth has committed an indiscretion by allowing the word \"God\" to remain at the end of a line in a definitive edition of the poems of Kipling.'"
      ]
     },
     "execution_count": 12,
     "metadata": {},
     "output_type": "execute_result"
    }
   ],
   "source": [
    "book_whisperer(\"Who is Winston Smith?\",ocr='easy').replace(\"\\n\",\"\")"
   ]
  },
  {
   "cell_type": "code",
   "execution_count": null,
   "metadata": {},
   "outputs": [],
   "source": []
  }
 ],
 "metadata": {
  "kernelspec": {
   "display_name": "book_whisperer_env",
   "language": "python",
   "name": "python3"
  },
  "language_info": {
   "codemirror_mode": {
    "name": "ipython",
    "version": 3
   },
   "file_extension": ".py",
   "mimetype": "text/x-python",
   "name": "python",
   "nbconvert_exporter": "python",
   "pygments_lexer": "ipython3",
   "version": "3.10.9"
  },
  "orig_nbformat": 4,
  "vscode": {
   "interpreter": {
    "hash": "8ee75a2f0121d6d767ffd9c2c2a9f1a3d74566b7415950da9805b898f2795c1a"
   }
  }
 },
 "nbformat": 4,
 "nbformat_minor": 2
}
